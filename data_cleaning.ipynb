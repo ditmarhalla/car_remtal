{
 "cells": [
  {
   "cell_type": "code",
   "execution_count": 7,
   "source": [
    "%pwd\n",
    "%ls"
   ],
   "outputs": [
    {
     "output_type": "stream",
     "name": "stdout",
     "text": [
      "albarent.py  data2.xlsx    data_cleaning.ipynb  README.md\n",
      "data1.xlsx   database.csv  main.py\n"
     ]
    }
   ],
   "metadata": {}
  },
  {
   "cell_type": "code",
   "execution_count": 8,
   "source": [
    "import pandas as pd\n",
    "from numpy import nan as NA\n",
    "pd.set_option('max_columns', None)\n",
    "pd.set_option('max_row',3)"
   ],
   "outputs": [],
   "metadata": {}
  },
  {
   "cell_type": "code",
   "execution_count": 9,
   "source": [
    "df1 = pd.read_excel('data1.xlsx',sheet_name=0,skiprows=[0,1,3,4],skipfooter=8)\n",
    "df2 = pd.read_excel('data1.xlsx',sheet_name=1,skiprows=[0,1])\n",
    "df3 = pd.read_excel('data1.xlsx',sheet_name=2,skiprows=[0,1])\n",
    "df4 = pd.read_excel('data1.xlsx',sheet_name=3,skiprows=[0,1],skipfooter=7)\n",
    "df5 = pd.read_excel('data1.xlsx',sheet_name=4,skiprows=[0,1,4],skipfooter=6)"
   ],
   "outputs": [],
   "metadata": {}
  },
  {
   "cell_type": "code",
   "execution_count": 10,
   "source": [
    "df5 = df5.rename({'one':'New_name'},axis='columns')\n"
   ],
   "outputs": [],
   "metadata": {}
  },
  {
   "cell_type": "code",
   "execution_count": 11,
   "source": [
    "df1 = df1[['Targa','Modeli','Viti Prodhimit','Kapacitetti CC','Karburanti','Numri I vendeve']]\n",
    "df2 = df2[['Targa','Modeli','Viti Prodhimit','Kapacitetti CC','Karburanti','Numri I vendeve']]\n",
    "df3 = df3[['Targa','Modeli','Viti Prodhimit','Kapacitetti CC','Karburanti']]\n",
    "df4 = df4[['Targa','Modeli','Viti Prodhimit','Kapacitetti CC','Karburanti']]\n",
    "df5 = df5[['Targa','Modeli','Viti Prodhimit','Kapacitetti CC','Karburanti']]"
   ],
   "outputs": [],
   "metadata": {}
  },
  {
   "cell_type": "code",
   "execution_count": 12,
   "source": [
    "print(df1.shape)"
   ],
   "outputs": [
    {
     "output_type": "stream",
     "name": "stdout",
     "text": [
      "(89, 6)\n"
     ]
    }
   ],
   "metadata": {}
  },
  {
   "cell_type": "code",
   "execution_count": 13,
   "source": [
    "data = pd.concat([df1,df2,df3,df4,df5])"
   ],
   "outputs": [],
   "metadata": {}
  },
  {
   "cell_type": "code",
   "execution_count": 14,
   "source": [
    "data"
   ],
   "outputs": [
    {
     "output_type": "execute_result",
     "data": {
      "text/html": [
       "<div>\n",
       "<style scoped>\n",
       "    .dataframe tbody tr th:only-of-type {\n",
       "        vertical-align: middle;\n",
       "    }\n",
       "\n",
       "    .dataframe tbody tr th {\n",
       "        vertical-align: top;\n",
       "    }\n",
       "\n",
       "    .dataframe thead th {\n",
       "        text-align: right;\n",
       "    }\n",
       "</style>\n",
       "<table border=\"1\" class=\"dataframe\">\n",
       "  <thead>\n",
       "    <tr style=\"text-align: right;\">\n",
       "      <th></th>\n",
       "      <th>Targa</th>\n",
       "      <th>Modeli</th>\n",
       "      <th>Viti Prodhimit</th>\n",
       "      <th>Kapacitetti CC</th>\n",
       "      <th>Karburanti</th>\n",
       "      <th>Numri I vendeve</th>\n",
       "    </tr>\n",
       "  </thead>\n",
       "  <tbody>\n",
       "    <tr>\n",
       "      <th>0</th>\n",
       "      <td>AA 940 HC</td>\n",
       "      <td>Citigo</td>\n",
       "      <td>NaN</td>\n",
       "      <td>NaN</td>\n",
       "      <td>NaN</td>\n",
       "      <td>NaN</td>\n",
       "    </tr>\n",
       "    <tr>\n",
       "      <th>...</th>\n",
       "      <td>...</td>\n",
       "      <td>...</td>\n",
       "      <td>...</td>\n",
       "      <td>...</td>\n",
       "      <td>...</td>\n",
       "      <td>...</td>\n",
       "    </tr>\n",
       "    <tr>\n",
       "      <th>23</th>\n",
       "      <td>AA 165 JO</td>\n",
       "      <td>2011</td>\n",
       "      <td>110.0</td>\n",
       "      <td>Nafte</td>\n",
       "      <td>NaN</td>\n",
       "      <td>NaN</td>\n",
       "    </tr>\n",
       "  </tbody>\n",
       "</table>\n",
       "<p>200 rows × 6 columns</p>\n",
       "</div>"
      ],
      "text/plain": [
       "        Targa  Modeli Viti Prodhimit Kapacitetti CC Karburanti Numri I vendeve\n",
       "0   AA 940 HC  Citigo            NaN            NaN        NaN             NaN\n",
       "..        ...     ...            ...            ...        ...             ...\n",
       "23  AA 165 JO    2011          110.0          Nafte        NaN             NaN\n",
       "\n",
       "[200 rows x 6 columns]"
      ]
     },
     "metadata": {},
     "execution_count": 14
    }
   ],
   "metadata": {}
  },
  {
   "cell_type": "code",
   "execution_count": 15,
   "source": [
    "data.to_csv('database.csv')"
   ],
   "outputs": [],
   "metadata": {}
  },
  {
   "cell_type": "code",
   "execution_count": 16,
   "source": [
    "%pwd"
   ],
   "outputs": [
    {
     "output_type": "execute_result",
     "data": {
      "text/plain": [
       "'/home/ditmar/development/car_remtal'"
      ]
     },
     "metadata": {},
     "execution_count": 16
    }
   ],
   "metadata": {}
  },
  {
   "cell_type": "code",
   "execution_count": 17,
   "source": [
    "%ls"
   ],
   "outputs": [
    {
     "output_type": "stream",
     "name": "stdout",
     "text": [
      "albarent.py  data2.xlsx    data_cleaning.ipynb  README.md\n",
      "data1.xlsx   database.csv  main.py\n"
     ]
    }
   ],
   "metadata": {}
  }
 ],
 "metadata": {
  "orig_nbformat": 4,
  "language_info": {
   "name": "python",
   "version": "3.8.10",
   "mimetype": "text/x-python",
   "codemirror_mode": {
    "name": "ipython",
    "version": 3
   },
   "pygments_lexer": "ipython3",
   "nbconvert_exporter": "python",
   "file_extension": ".py"
  },
  "kernelspec": {
   "name": "python3",
   "display_name": "Python 3.8.10 64-bit"
  },
  "interpreter": {
   "hash": "916dbcbb3f70747c44a77c7bcd40155683ae19c65e1c03b4aa3499c5328201f1"
  }
 },
 "nbformat": 4,
 "nbformat_minor": 2
}