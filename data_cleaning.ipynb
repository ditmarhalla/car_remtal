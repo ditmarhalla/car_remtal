{
 "cells": [
  {
   "cell_type": "code",
   "execution_count": 210,
   "source": [
    "%pwd\r\n",
    "%ls"
   ],
   "outputs": [
    {
     "output_type": "stream",
     "name": "stdout",
     "text": [
      " Volume in drive C has no label.\n",
      " Volume Serial Number is 622C-36CE\n",
      "\n",
      " Directory of c:\\Users\\Ditmar\\python_projects\\albarent\n",
      "\n",
      "29/08/2021  00:58    <DIR>          .\n",
      "29/08/2021  00:58    <DIR>          ..\n",
      "29/08/2021  21:39            21,798 data_cleaning.ipynb\n",
      "29/08/2021  00:45                 0 data_cleaning.py\n",
      "15/06/2021  17:43            46,507 data1.xlsx\n",
      "15/06/2021  17:42            24,865 data2.xlsx\n",
      "               4 File(s)         93,170 bytes\n",
      "               2 Dir(s)  110,884,216,832 bytes free\n"
     ]
    }
   ],
   "metadata": {}
  },
  {
   "cell_type": "code",
   "execution_count": 211,
   "source": [
    "import pandas as pd\r\n",
    "from numpy import nan as NA\r\n",
    "pd.set_option('max_columns', None)\r\n",
    "pd.set_option('max_row',3)"
   ],
   "outputs": [],
   "metadata": {}
  },
  {
   "cell_type": "code",
   "execution_count": 212,
   "source": [
    "df1 = pd.read_excel('data1.xlsx',sheet_name=0,skiprows=[0,1,3,4],skipfooter=8)\r\n",
    "df2 = pd.read_excel('data1.xlsx',sheet_name=1,skiprows=[0,1])\r\n",
    "df3 = pd.read_excel('data1.xlsx',sheet_name=2,skiprows=[0,1])\r\n",
    "df4 = pd.read_excel('data1.xlsx',sheet_name=3,skiprows=[0,1],skipfooter=7)\r\n",
    "df5 = pd.read_excel('data1.xlsx',sheet_name=4,skiprows=[0,1,4],skipfooter=6)"
   ],
   "outputs": [],
   "metadata": {}
  },
  {
   "cell_type": "code",
   "execution_count": 213,
   "source": [
    "df5 = df5.rename({'one':'New_name'},axis='columns')\r\n"
   ],
   "outputs": [],
   "metadata": {}
  },
  {
   "cell_type": "code",
   "execution_count": 214,
   "source": [
    "df1 = df1[['Targa','Modeli','Viti Prodhimit','Kapacitetti CC','Karburanti','Numri I vendeve']]\r\n",
    "df2 = df2[['Targa','Modeli','Viti Prodhimit','Kapacitetti CC','Karburanti','Numri I vendeve']]\r\n",
    "df3 = df3[['Targa','Modeli','Viti Prodhimit','Kapacitetti CC','Karburanti']]\r\n",
    "df4 = df4[['Targa','Modeli','Viti Prodhimit','Kapacitetti CC','Karburanti']]\r\n",
    "df5 = df5[['Targa','Modeli','Viti Prodhimit','Kapacitetti CC','Karburanti']]"
   ],
   "outputs": [],
   "metadata": {}
  },
  {
   "cell_type": "code",
   "execution_count": 215,
   "source": [
    "print(df1.shape)"
   ],
   "outputs": [
    {
     "output_type": "stream",
     "name": "stdout",
     "text": [
      "(89, 6)\n"
     ]
    }
   ],
   "metadata": {}
  },
  {
   "cell_type": "code",
   "execution_count": 216,
   "source": [
    "data = pd.concat([df1,df2,df3,df4,df5])"
   ],
   "outputs": [],
   "metadata": {}
  },
  {
   "cell_type": "code",
   "execution_count": 217,
   "source": [
    "data"
   ],
   "outputs": [
    {
     "output_type": "execute_result",
     "data": {
      "text/html": [
       "<div>\n",
       "<style scoped>\n",
       "    .dataframe tbody tr th:only-of-type {\n",
       "        vertical-align: middle;\n",
       "    }\n",
       "\n",
       "    .dataframe tbody tr th {\n",
       "        vertical-align: top;\n",
       "    }\n",
       "\n",
       "    .dataframe thead th {\n",
       "        text-align: right;\n",
       "    }\n",
       "</style>\n",
       "<table border=\"1\" class=\"dataframe\">\n",
       "  <thead>\n",
       "    <tr style=\"text-align: right;\">\n",
       "      <th></th>\n",
       "      <th>Targa</th>\n",
       "      <th>Modeli</th>\n",
       "      <th>Viti Prodhimit</th>\n",
       "      <th>Kapacitetti CC</th>\n",
       "      <th>Karburanti</th>\n",
       "      <th>Numri I vendeve</th>\n",
       "    </tr>\n",
       "  </thead>\n",
       "  <tbody>\n",
       "    <tr>\n",
       "      <th>0</th>\n",
       "      <td>AA 940 HC</td>\n",
       "      <td>Citigo</td>\n",
       "      <td>NaN</td>\n",
       "      <td>NaN</td>\n",
       "      <td>NaN</td>\n",
       "      <td>NaN</td>\n",
       "    </tr>\n",
       "    <tr>\n",
       "      <th>...</th>\n",
       "      <td>...</td>\n",
       "      <td>...</td>\n",
       "      <td>...</td>\n",
       "      <td>...</td>\n",
       "      <td>...</td>\n",
       "      <td>...</td>\n",
       "    </tr>\n",
       "    <tr>\n",
       "      <th>23</th>\n",
       "      <td>AA 165 JO</td>\n",
       "      <td>2011</td>\n",
       "      <td>110.0</td>\n",
       "      <td>Nafte</td>\n",
       "      <td>NaN</td>\n",
       "      <td>NaN</td>\n",
       "    </tr>\n",
       "  </tbody>\n",
       "</table>\n",
       "<p>200 rows × 6 columns</p>\n",
       "</div>"
      ],
      "text/plain": [
       "        Targa  Modeli Viti Prodhimit Kapacitetti CC Karburanti Numri I vendeve\n",
       "0   AA 940 HC  Citigo            NaN            NaN        NaN             NaN\n",
       "..        ...     ...            ...            ...        ...             ...\n",
       "23  AA 165 JO    2011          110.0          Nafte        NaN             NaN\n",
       "\n",
       "[200 rows x 6 columns]"
      ]
     },
     "metadata": {},
     "execution_count": 217
    }
   ],
   "metadata": {}
  },
  {
   "cell_type": "code",
   "execution_count": 218,
   "source": [
    "data.to_csv('database.csv')"
   ],
   "outputs": [],
   "metadata": {}
  },
  {
   "cell_type": "code",
   "execution_count": 219,
   "source": [
    "%pwd"
   ],
   "outputs": [
    {
     "output_type": "execute_result",
     "data": {
      "text/plain": [
       "'c:\\\\Users\\\\Ditmar\\\\python_projects\\\\albarent'"
      ]
     },
     "metadata": {},
     "execution_count": 219
    }
   ],
   "metadata": {}
  },
  {
   "cell_type": "code",
   "execution_count": 220,
   "source": [
    "%ls"
   ],
   "outputs": [
    {
     "output_type": "stream",
     "name": "stdout",
     "text": [
      " Volume in drive C has no label.\n",
      " Volume Serial Number is 622C-36CE\n",
      "\n",
      " Directory of c:\\Users\\Ditmar\\python_projects\\albarent\n",
      "\n",
      "31/08/2021  11:03    <DIR>          .\n",
      "31/08/2021  11:03    <DIR>          ..\n",
      "29/08/2021  21:39            21,798 data_cleaning.ipynb\n",
      "29/08/2021  00:45                 0 data_cleaning.py\n",
      "15/06/2021  17:43            46,507 data1.xlsx\n",
      "15/06/2021  17:42            24,865 data2.xlsx\n",
      "31/08/2021  11:03             7,378 database.csv\n",
      "               5 File(s)        100,548 bytes\n",
      "               2 Dir(s)  110,884,200,448 bytes free\n"
     ]
    }
   ],
   "metadata": {}
  }
 ],
 "metadata": {
  "orig_nbformat": 4,
  "language_info": {
   "name": "python",
   "version": "3.9.1",
   "mimetype": "text/x-python",
   "codemirror_mode": {
    "name": "ipython",
    "version": 3
   },
   "pygments_lexer": "ipython3",
   "nbconvert_exporter": "python",
   "file_extension": ".py"
  },
  "kernelspec": {
   "name": "python3",
   "display_name": "Python 3.9.1 64-bit"
  },
  "interpreter": {
   "hash": "ee5cc6fef2d70a7e71ee3826687cbd150f18158e0b1eef11d4f4f92bb920e304"
  }
 },
 "nbformat": 4,
 "nbformat_minor": 2
}