{
 "cells": [
  {
   "cell_type": "code",
   "execution_count": 95,
   "metadata": {},
   "outputs": [
    {
     "name": "stdout",
     "output_type": "stream",
     "text": [
      "albarent.py   data1.xlsx  database.csv         main.py  \u001b[0m\u001b[01;34m__pycache__\u001b[0m/\n",
      "car_class.py  data2.xlsx  data_cleaning.ipynb  \u001b[01;34mmy_env\u001b[0m/  README.md\n"
     ]
    }
   ],
   "source": [
    "%pwd\n",
    "%ls"
   ]
  },
  {
   "cell_type": "code",
   "execution_count": 96,
   "metadata": {},
   "outputs": [],
   "source": [
    "import pandas as pd\n",
    "from numpy import nan as NA\n",
    "pd.set_option('max_columns', None)\n",
    "pd.set_option('max_row',4)"
   ]
  },
  {
   "cell_type": "code",
   "execution_count": 97,
   "metadata": {},
   "outputs": [],
   "source": [
    "df1 = pd.read_excel('data1.xlsx',sheet_name=0,skiprows=[0,1,3,4],skipfooter=8)\n",
    "df2 = pd.read_excel('data1.xlsx',sheet_name=1,skiprows=[0,1])\n",
    "df3 = pd.read_excel('data1.xlsx',sheet_name=2,skiprows=[0,1])\n",
    "df4 = pd.read_excel('data1.xlsx',sheet_name=3,skiprows=[0,1],skipfooter=7)\n",
    "df5 = pd.read_excel('data1.xlsx',sheet_name=4,skiprows=[0,1,4],skipfooter=6)"
   ]
  },
  {
   "cell_type": "code",
   "execution_count": 98,
   "metadata": {},
   "outputs": [],
   "source": [
    "df5 = df5.rename({'one':'New_name'},axis='columns')\n"
   ]
  },
  {
   "cell_type": "code",
   "execution_count": 99,
   "metadata": {},
   "outputs": [],
   "source": [
    "df1 = df1[['Targa','Modeli','Viti Prodhimit','Kapacitetti CC','Karburanti','Numri I vendeve']]\n",
    "df2 = df2[['Targa','Modeli','Viti Prodhimit','Kapacitetti CC','Karburanti','Numri I vendeve']]\n",
    "df3 = df3[['Targa','Modeli','Viti Prodhimit','Kapacitetti CC','Karburanti']]\n",
    "df4 = df4[['Targa','Modeli','Viti Prodhimit','Kapacitetti CC','Karburanti']]\n",
    "df5 = df5[['Targa','Modeli','Viti Prodhimit','Kapacitetti CC','Karburanti']]\n",
    "df5 = df5.drop([14])"
   ]
  },
  {
   "cell_type": "code",
   "execution_count": 100,
   "metadata": {},
   "outputs": [
    {
     "name": "stdout",
     "output_type": "stream",
     "text": [
      "(199, 6)\n"
     ]
    }
   ],
   "source": [
    "data = pd.concat([df1,df2,df3,df4,df5])\n",
    "print(data.shape)"
   ]
  },
  {
   "cell_type": "code",
   "execution_count": 101,
   "metadata": {},
   "outputs": [
    {
     "name": "stdout",
     "output_type": "stream",
     "text": [
      "(195, 6)\n"
     ]
    }
   ],
   "source": [
    "data = data[data['Targa'].notna()]\n",
    "print(data.shape)"
   ]
  },
  {
   "cell_type": "code",
   "execution_count": 102,
   "metadata": {},
   "outputs": [],
   "source": [
    "data.to_csv('database.csv',index = False)"
   ]
  },
  {
   "cell_type": "code",
   "execution_count": 103,
   "metadata": {},
   "outputs": [
    {
     "data": {
      "text/plain": [
       "'/home/ditmar/development/car_remtal'"
      ]
     },
     "execution_count": 103,
     "metadata": {},
     "output_type": "execute_result"
    }
   ],
   "source": [
    "%pwd"
   ]
  },
  {
   "cell_type": "code",
   "execution_count": 104,
   "metadata": {},
   "outputs": [
    {
     "name": "stdout",
     "output_type": "stream",
     "text": [
      "albarent.py   data1.xlsx  database.csv         main.py  \u001b[0m\u001b[01;34m__pycache__\u001b[0m/\n",
      "car_class.py  data2.xlsx  data_cleaning.ipynb  \u001b[01;34mmy_env\u001b[0m/  README.md\n"
     ]
    }
   ],
   "source": [
    "%ls"
   ]
  }
 ],
 "metadata": {
  "interpreter": {
   "hash": "916dbcbb3f70747c44a77c7bcd40155683ae19c65e1c03b4aa3499c5328201f1"
  },
  "kernelspec": {
   "display_name": "Python 3.8.10 64-bit",
   "name": "python3"
  },
  "language_info": {
   "codemirror_mode": {
    "name": "ipython",
    "version": 3
   },
   "file_extension": ".py",
   "mimetype": "text/x-python",
   "name": "python",
   "nbconvert_exporter": "python",
   "pygments_lexer": "ipython3",
   "version": "3.8.10"
  },
  "orig_nbformat": 4
 },
 "nbformat": 4,
 "nbformat_minor": 2
}
